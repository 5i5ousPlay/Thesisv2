{
 "cells": [
  {
   "cell_type": "markdown",
   "metadata": {},
   "source": [
    "## Setup in Local Machine"
   ]
  },
  {
   "cell_type": "code",
   "execution_count": 1,
   "metadata": {},
   "outputs": [
    {
     "name": "stdout",
     "output_type": "stream",
     "text": [
      "Requirement already satisfied: worker in c:\\users\\al\\appdata\\local\\programs\\python\\python312\\lib\\site-packages (2018.4.1)\n",
      "Requirement already satisfied: termcc in c:\\users\\al\\appdata\\local\\programs\\python\\python312\\lib\\site-packages (from worker) (2019.8.2)\n",
      "Requirement already satisfied: loader in c:\\users\\al\\appdata\\local\\programs\\python\\python312\\lib\\site-packages (from worker) (2017.9.11)\n",
      "Requirement already satisfied: async-timeout in c:\\users\\al\\appdata\\local\\programs\\python\\python312\\lib\\site-packages (from worker) (4.0.3)\n",
      "Requirement already satisfied: aiohttp in c:\\users\\al\\appdata\\local\\programs\\python\\python312\\lib\\site-packages (from worker) (3.9.5)\n",
      "Requirement already satisfied: aiosignal>=1.1.2 in c:\\users\\al\\appdata\\local\\programs\\python\\python312\\lib\\site-packages (from aiohttp->worker) (1.3.1)\n",
      "Requirement already satisfied: attrs>=17.3.0 in c:\\users\\al\\appdata\\local\\programs\\python\\python312\\lib\\site-packages (from aiohttp->worker) (23.2.0)\n",
      "Requirement already satisfied: frozenlist>=1.1.1 in c:\\users\\al\\appdata\\local\\programs\\python\\python312\\lib\\site-packages (from aiohttp->worker) (1.4.1)\n",
      "Requirement already satisfied: multidict<7.0,>=4.5 in c:\\users\\al\\appdata\\local\\programs\\python\\python312\\lib\\site-packages (from aiohttp->worker) (6.0.5)\n",
      "Requirement already satisfied: yarl<2.0,>=1.0 in c:\\users\\al\\appdata\\local\\programs\\python\\python312\\lib\\site-packages (from aiohttp->worker) (1.9.4)\n",
      "Requirement already satisfied: bs4 in c:\\users\\al\\appdata\\local\\programs\\python\\python312\\lib\\site-packages (from loader->worker) (0.0.2)\n",
      "Requirement already satisfied: logbook in c:\\users\\al\\appdata\\local\\programs\\python\\python312\\lib\\site-packages (from termcc->worker) (1.7.0.post0)\n",
      "Requirement already satisfied: pendulum in c:\\users\\al\\appdata\\local\\programs\\python\\python312\\lib\\site-packages (from termcc->worker) (3.0.0)\n",
      "Requirement already satisfied: terminaltables in c:\\users\\al\\appdata\\local\\programs\\python\\python312\\lib\\site-packages (from termcc->worker) (3.1.10)\n",
      "Requirement already satisfied: idna>=2.0 in c:\\users\\al\\appdata\\local\\programs\\python\\python312\\lib\\site-packages (from yarl<2.0,>=1.0->aiohttp->worker) (3.7)\n",
      "Requirement already satisfied: beautifulsoup4 in c:\\users\\al\\appdata\\local\\programs\\python\\python312\\lib\\site-packages (from bs4->loader->worker) (4.12.3)\n",
      "Requirement already satisfied: python-dateutil>=2.6 in c:\\users\\al\\appdata\\local\\programs\\python\\python312\\lib\\site-packages (from pendulum->termcc->worker) (2.8.2)\n",
      "Requirement already satisfied: tzdata>=2020.1 in c:\\users\\al\\appdata\\local\\programs\\python\\python312\\lib\\site-packages (from pendulum->termcc->worker) (2023.3)\n",
      "Requirement already satisfied: time-machine>=2.6.0 in c:\\users\\al\\appdata\\local\\programs\\python\\python312\\lib\\site-packages (from pendulum->termcc->worker) (2.14.1)\n",
      "Requirement already satisfied: six>=1.5 in c:\\users\\al\\appdata\\local\\programs\\python\\python312\\lib\\site-packages (from python-dateutil>=2.6->pendulum->termcc->worker) (1.16.0)\n",
      "Requirement already satisfied: soupsieve>1.2 in c:\\users\\al\\appdata\\local\\programs\\python\\python312\\lib\\site-packages (from beautifulsoup4->bs4->loader->worker) (2.5)\n",
      "Note: you may need to restart the kernel to use updated packages.\n"
     ]
    },
    {
     "name": "stderr",
     "output_type": "stream",
     "text": [
      "\n",
      "[notice] A new release of pip is available: 23.2.1 -> 24.0\n",
      "[notice] To update, run: python.exe -m pip install --upgrade pip\n"
     ]
    },
    {
     "name": "stdout",
     "output_type": "stream",
     "text": [
      "Requirement already satisfied: pandas in c:\\users\\al\\appdata\\local\\programs\\python\\python312\\lib\\site-packages (2.1.3)\n",
      "Requirement already satisfied: numpy<2,>=1.26.0 in c:\\users\\al\\appdata\\local\\programs\\python\\python312\\lib\\site-packages (from pandas) (1.26.2)\n",
      "Requirement already satisfied: python-dateutil>=2.8.2 in c:\\users\\al\\appdata\\local\\programs\\python\\python312\\lib\\site-packages (from pandas) (2.8.2)\n",
      "Requirement already satisfied: pytz>=2020.1 in c:\\users\\al\\appdata\\local\\programs\\python\\python312\\lib\\site-packages (from pandas) (2023.3.post1)\n",
      "Requirement already satisfied: tzdata>=2022.1 in c:\\users\\al\\appdata\\local\\programs\\python\\python312\\lib\\site-packages (from pandas) (2023.3)\n",
      "Requirement already satisfied: six>=1.5 in c:\\users\\al\\appdata\\local\\programs\\python\\python312\\lib\\site-packages (from python-dateutil>=2.8.2->pandas) (1.16.0)\n",
      "Note: you may need to restart the kernel to use updated packages.\n"
     ]
    },
    {
     "name": "stderr",
     "output_type": "stream",
     "text": [
      "\n",
      "[notice] A new release of pip is available: 23.2.1 -> 24.0\n",
      "[notice] To update, run: python.exe -m pip install --upgrade pip\n"
     ]
    },
    {
     "name": "stdout",
     "output_type": "stream",
     "text": [
      "Requirement already satisfied: numpy in c:\\users\\al\\appdata\\local\\programs\\python\\python312\\lib\\site-packages (1.26.2)\n",
      "Note: you may need to restart the kernel to use updated packages.\n"
     ]
    },
    {
     "name": "stderr",
     "output_type": "stream",
     "text": [
      "\n",
      "[notice] A new release of pip is available: 23.2.1 -> 24.0\n",
      "[notice] To update, run: python.exe -m pip install --upgrade pip\n"
     ]
    },
    {
     "name": "stdout",
     "output_type": "stream",
     "text": [
      "Requirement already satisfied: networkx in c:\\users\\al\\appdata\\local\\programs\\python\\python312\\lib\\site-packages (3.3)\n",
      "Note: you may need to restart the kernel to use updated packages.\n"
     ]
    },
    {
     "name": "stderr",
     "output_type": "stream",
     "text": [
      "\n",
      "[notice] A new release of pip is available: 23.2.1 -> 24.0\n",
      "[notice] To update, run: python.exe -m pip install --upgrade pip\n"
     ]
    },
    {
     "name": "stdout",
     "output_type": "stream",
     "text": [
      "Requirement already satisfied: matplotlib in c:\\users\\al\\appdata\\local\\programs\\python\\python312\\lib\\site-packages (3.8.4)\n",
      "Requirement already satisfied: contourpy>=1.0.1 in c:\\users\\al\\appdata\\local\\programs\\python\\python312\\lib\\site-packages (from matplotlib) (1.2.1)\n",
      "Requirement already satisfied: cycler>=0.10 in c:\\users\\al\\appdata\\local\\programs\\python\\python312\\lib\\site-packages (from matplotlib) (0.12.1)\n",
      "Requirement already satisfied: fonttools>=4.22.0 in c:\\users\\al\\appdata\\local\\programs\\python\\python312\\lib\\site-packages (from matplotlib) (4.51.0)\n",
      "Requirement already satisfied: kiwisolver>=1.3.1 in c:\\users\\al\\appdata\\local\\programs\\python\\python312\\lib\\site-packages (from matplotlib) (1.4.5)\n",
      "Requirement already satisfied: numpy>=1.21 in c:\\users\\al\\appdata\\local\\programs\\python\\python312\\lib\\site-packages (from matplotlib) (1.26.2)\n",
      "Requirement already satisfied: packaging>=20.0 in c:\\users\\al\\appdata\\roaming\\python\\python312\\site-packages (from matplotlib) (23.2)\n",
      "Requirement already satisfied: pillow>=8 in c:\\users\\al\\appdata\\local\\programs\\python\\python312\\lib\\site-packages (from matplotlib) (10.1.0)\n",
      "Requirement already satisfied: pyparsing>=2.3.1 in c:\\users\\al\\appdata\\local\\programs\\python\\python312\\lib\\site-packages (from matplotlib) (3.1.2)\n",
      "Requirement already satisfied: python-dateutil>=2.7 in c:\\users\\al\\appdata\\local\\programs\\python\\python312\\lib\\site-packages (from matplotlib) (2.8.2)\n",
      "Requirement already satisfied: six>=1.5 in c:\\users\\al\\appdata\\local\\programs\\python\\python312\\lib\\site-packages (from python-dateutil>=2.7->matplotlib) (1.16.0)\n",
      "Note: you may need to restart the kernel to use updated packages.\n"
     ]
    },
    {
     "name": "stderr",
     "output_type": "stream",
     "text": [
      "\n",
      "[notice] A new release of pip is available: 23.2.1 -> 24.0\n",
      "[notice] To update, run: python.exe -m pip install --upgrade pip\n"
     ]
    },
    {
     "name": "stdout",
     "output_type": "stream",
     "text": [
      "Requirement already satisfied: music21 in c:\\users\\al\\appdata\\local\\programs\\python\\python312\\lib\\site-packages (9.1.0)\n",
      "Requirement already satisfied: chardet in c:\\users\\al\\appdata\\local\\programs\\python\\python312\\lib\\site-packages (from music21) (5.2.0)\n",
      "Requirement already satisfied: joblib in c:\\users\\al\\appdata\\local\\programs\\python\\python312\\lib\\site-packages (from music21) (1.4.0)\n",
      "Requirement already satisfied: jsonpickle in c:\\users\\al\\appdata\\local\\programs\\python\\python312\\lib\\site-packages (from music21) (3.0.4)\n",
      "Requirement already satisfied: matplotlib in c:\\users\\al\\appdata\\local\\programs\\python\\python312\\lib\\site-packages (from music21) (3.8.4)\n",
      "Requirement already satisfied: more-itertools in c:\\users\\al\\appdata\\local\\programs\\python\\python312\\lib\\site-packages (from music21) (10.2.0)\n",
      "Requirement already satisfied: numpy in c:\\users\\al\\appdata\\local\\programs\\python\\python312\\lib\\site-packages (from music21) (1.26.2)\n",
      "Requirement already satisfied: requests in c:\\users\\al\\appdata\\local\\programs\\python\\python312\\lib\\site-packages (from music21) (2.31.0)\n",
      "Requirement already satisfied: webcolors>=1.5 in c:\\users\\al\\appdata\\local\\programs\\python\\python312\\lib\\site-packages (from music21) (1.13)\n",
      "Requirement already satisfied: contourpy>=1.0.1 in c:\\users\\al\\appdata\\local\\programs\\python\\python312\\lib\\site-packages (from matplotlib->music21) (1.2.1)\n",
      "Requirement already satisfied: cycler>=0.10 in c:\\users\\al\\appdata\\local\\programs\\python\\python312\\lib\\site-packages (from matplotlib->music21) (0.12.1)\n",
      "Requirement already satisfied: fonttools>=4.22.0 in c:\\users\\al\\appdata\\local\\programs\\python\\python312\\lib\\site-packages (from matplotlib->music21) (4.51.0)\n",
      "Requirement already satisfied: kiwisolver>=1.3.1 in c:\\users\\al\\appdata\\local\\programs\\python\\python312\\lib\\site-packages (from matplotlib->music21) (1.4.5)\n",
      "Requirement already satisfied: packaging>=20.0 in c:\\users\\al\\appdata\\roaming\\python\\python312\\site-packages (from matplotlib->music21) (23.2)\n",
      "Requirement already satisfied: pillow>=8 in c:\\users\\al\\appdata\\local\\programs\\python\\python312\\lib\\site-packages (from matplotlib->music21) (10.1.0)\n",
      "Requirement already satisfied: pyparsing>=2.3.1 in c:\\users\\al\\appdata\\local\\programs\\python\\python312\\lib\\site-packages (from matplotlib->music21) (3.1.2)\n",
      "Requirement already satisfied: python-dateutil>=2.7 in c:\\users\\al\\appdata\\local\\programs\\python\\python312\\lib\\site-packages (from matplotlib->music21) (2.8.2)\n",
      "Requirement already satisfied: charset-normalizer<4,>=2 in c:\\users\\al\\appdata\\local\\programs\\python\\python312\\lib\\site-packages (from requests->music21) (3.3.2)\n",
      "Requirement already satisfied: idna<4,>=2.5 in c:\\users\\al\\appdata\\local\\programs\\python\\python312\\lib\\site-packages (from requests->music21) (3.7)\n",
      "Requirement already satisfied: urllib3<3,>=1.21.1 in c:\\users\\al\\appdata\\local\\programs\\python\\python312\\lib\\site-packages (from requests->music21) (2.2.1)\n",
      "Requirement already satisfied: certifi>=2017.4.17 in c:\\users\\al\\appdata\\local\\programs\\python\\python312\\lib\\site-packages (from requests->music21) (2024.2.2)\n",
      "Requirement already satisfied: six>=1.5 in c:\\users\\al\\appdata\\local\\programs\\python\\python312\\lib\\site-packages (from python-dateutil>=2.7->matplotlib->music21) (1.16.0)\n",
      "Note: you may need to restart the kernel to use updated packages.\n"
     ]
    },
    {
     "name": "stderr",
     "output_type": "stream",
     "text": [
      "\n",
      "[notice] A new release of pip is available: 23.2.1 -> 24.0\n",
      "[notice] To update, run: python.exe -m pip install --upgrade pip\n"
     ]
    },
    {
     "name": "stdout",
     "output_type": "stream",
     "text": [
      "Requirement already satisfied: musescore in c:\\users\\al\\appdata\\local\\programs\\python\\python312\\lib\\site-packages (0.0.2)\n",
      "Note: you may need to restart the kernel to use updated packages.\n"
     ]
    },
    {
     "name": "stderr",
     "output_type": "stream",
     "text": [
      "\n",
      "[notice] A new release of pip is available: 23.2.1 -> 24.0\n",
      "[notice] To update, run: python.exe -m pip install --upgrade pip\n"
     ]
    },
    {
     "name": "stdout",
     "output_type": "stream",
     "text": [
      "Note: you may need to restart the kernel to use updated packages.\n",
      "Requirement already satisfied: tslearn in c:\\users\\al\\appdata\\local\\programs\\python\\python312\\lib\\site-packages (0.6.3)\n",
      "Requirement already satisfied: numpy in c:\\users\\al\\appdata\\local\\programs\\python\\python312\\lib\\site-packages (from tslearn) (1.26.2)\n",
      "Requirement already satisfied: scipy in c:\\users\\al\\appdata\\local\\programs\\python\\python312\\lib\\site-packages (from tslearn) (1.13.0)\n",
      "Requirement already satisfied: scikit-learn in c:\\users\\al\\appdata\\local\\programs\\python\\python312\\lib\\site-packages (from tslearn) (1.4.2)\n",
      "Requirement already satisfied: numba in c:\\users\\al\\appdata\\local\\programs\\python\\python312\\lib\\site-packages (from tslearn) (0.59.1)\n",
      "Requirement already satisfied: joblib in c:\\users\\al\\appdata\\local\\programs\\python\\python312\\lib\\site-packages (from tslearn) (1.4.0)\n",
      "Requirement already satisfied: llvmlite<0.43,>=0.42.0dev0 in c:\\users\\al\\appdata\\local\\programs\\python\\python312\\lib\\site-packages (from numba->tslearn) (0.42.0)\n",
      "Requirement already satisfied: threadpoolctl>=2.0.0 in c:\\users\\al\\appdata\\local\\programs\\python\\python312\\lib\\site-packages (from scikit-learn->tslearn) (3.5.0)\n"
     ]
    },
    {
     "name": "stderr",
     "output_type": "stream",
     "text": [
      "\n",
      "[notice] A new release of pip is available: 23.2.1 -> 24.0\n",
      "[notice] To update, run: python.exe -m pip install --upgrade pip\n"
     ]
    },
    {
     "name": "stdout",
     "output_type": "stream",
     "text": [
      "Collecting sklearn\n",
      "  Using cached sklearn-0.0.post12.tar.gz (2.6 kB)\n",
      "  Installing build dependencies: started\n",
      "  Installing build dependencies: finished with status 'done'\n",
      "  Getting requirements to build wheel: started\n",
      "  Getting requirements to build wheel: finished with status 'error'\n",
      "Note: you may need to restart the kernel to use updated packages.\n"
     ]
    },
    {
     "name": "stderr",
     "output_type": "stream",
     "text": [
      "  error: subprocess-exited-with-error\n",
      "  \n",
      "  × Getting requirements to build wheel did not run successfully.\n",
      "  │ exit code: 1\n",
      "  ╰─> [15 lines of output]\n",
      "      The 'sklearn' PyPI package is deprecated, use 'scikit-learn'\n",
      "      rather than 'sklearn' for pip commands.\n",
      "      \n",
      "      Here is how to fix this error in the main use cases:\n",
      "      - use 'pip install scikit-learn' rather than 'pip install sklearn'\n",
      "      - replace 'sklearn' by 'scikit-learn' in your pip requirements files\n",
      "        (requirements.txt, setup.py, setup.cfg, Pipfile, etc ...)\n",
      "      - if the 'sklearn' package is used by one of your dependencies,\n",
      "        it would be great if you take some time to track which package uses\n",
      "        'sklearn' instead of 'scikit-learn' and report it to their issue tracker\n",
      "      - as a last resort, set the environment variable\n",
      "        SKLEARN_ALLOW_DEPRECATED_SKLEARN_PACKAGE_INSTALL=True to avoid this error\n",
      "      \n",
      "      More information is available at\n",
      "      https://github.com/scikit-learn/sklearn-pypi-package\n",
      "      [end of output]\n",
      "  \n",
      "  note: This error originates from a subprocess, and is likely not a problem with pip.\n",
      "error: subprocess-exited-with-error\n",
      "\n",
      "× Getting requirements to build wheel did not run successfully.\n",
      "│ exit code: 1\n",
      "╰─> See above for output.\n",
      "\n",
      "note: This error originates from a subprocess, and is likely not a problem with pip.\n",
      "\n",
      "[notice] A new release of pip is available: 23.2.1 -> 24.0\n",
      "[notice] To update, run: python.exe -m pip install --upgrade pip\n"
     ]
    },
    {
     "name": "stdout",
     "output_type": "stream",
     "text": [
      "Collecting multiprocessing\n",
      "  Using cached multiprocessing-2.6.2.1.tar.gz (108 kB)\n",
      "  Installing build dependencies: started\n",
      "  Installing build dependencies: finished with status 'done'\n",
      "  Getting requirements to build wheel: started\n",
      "  Getting requirements to build wheel: finished with status 'error'\n",
      "Note: you may need to restart the kernel to use updated packages.\n"
     ]
    },
    {
     "name": "stderr",
     "output_type": "stream",
     "text": [
      "  error: subprocess-exited-with-error\n",
      "  \n",
      "  × Getting requirements to build wheel did not run successfully.\n",
      "  │ exit code: 1\n",
      "  ╰─> [22 lines of output]\n",
      "      Traceback (most recent call last):\n",
      "        File \"c:\\Users\\AL\\AppData\\Local\\Programs\\Python\\Python312\\Lib\\site-packages\\pip\\_vendor\\pyproject_hooks\\_in_process\\_in_process.py\", line 353, in <module>\n",
      "          main()\n",
      "        File \"c:\\Users\\AL\\AppData\\Local\\Programs\\Python\\Python312\\Lib\\site-packages\\pip\\_vendor\\pyproject_hooks\\_in_process\\_in_process.py\", line 335, in main\n",
      "          json_out['return_val'] = hook(**hook_input['kwargs'])\n",
      "                                   ^^^^^^^^^^^^^^^^^^^^^^^^^^^^\n",
      "        File \"c:\\Users\\AL\\AppData\\Local\\Programs\\Python\\Python312\\Lib\\site-packages\\pip\\_vendor\\pyproject_hooks\\_in_process\\_in_process.py\", line 118, in get_requires_for_build_wheel\n",
      "          return hook(config_settings)\n",
      "                 ^^^^^^^^^^^^^^^^^^^^^\n",
      "        File \"C:\\Users\\AL\\AppData\\Local\\Temp\\pip-build-env-7y7xdik1\\overlay\\Lib\\site-packages\\setuptools\\build_meta.py\", line 325, in get_requires_for_build_wheel\n",
      "          return self._get_build_requires(config_settings, requirements=['wheel'])\n",
      "                 ^^^^^^^^^^^^^^^^^^^^^^^^^^^^^^^^^^^^^^^^^^^^^^^^^^^^^^^^^^^^^^^^^\n",
      "        File \"C:\\Users\\AL\\AppData\\Local\\Temp\\pip-build-env-7y7xdik1\\overlay\\Lib\\site-packages\\setuptools\\build_meta.py\", line 295, in _get_build_requires\n",
      "          self.run_setup()\n",
      "        File \"C:\\Users\\AL\\AppData\\Local\\Temp\\pip-build-env-7y7xdik1\\overlay\\Lib\\site-packages\\setuptools\\build_meta.py\", line 487, in run_setup\n",
      "          super().run_setup(setup_script=setup_script)\n",
      "        File \"C:\\Users\\AL\\AppData\\Local\\Temp\\pip-build-env-7y7xdik1\\overlay\\Lib\\site-packages\\setuptools\\build_meta.py\", line 311, in run_setup\n",
      "          exec(code, locals())\n",
      "        File \"<string>\", line 94\n",
      "          print 'Macros:'\n",
      "          ^^^^^^^^^^^^^^^\n",
      "      SyntaxError: Missing parentheses in call to 'print'. Did you mean print(...)?\n",
      "      [end of output]\n",
      "  \n",
      "  note: This error originates from a subprocess, and is likely not a problem with pip.\n",
      "error: subprocess-exited-with-error\n",
      "\n",
      "× Getting requirements to build wheel did not run successfully.\n",
      "│ exit code: 1\n",
      "╰─> See above for output.\n",
      "\n",
      "note: This error originates from a subprocess, and is likely not a problem with pip.\n",
      "\n",
      "[notice] A new release of pip is available: 23.2.1 -> 24.0\n",
      "[notice] To update, run: python.exe -m pip install --upgrade pip\n"
     ]
    },
    {
     "name": "stdout",
     "output_type": "stream",
     "text": [
      "Requirement already satisfied: pyvis in c:\\users\\al\\appdata\\local\\programs\\python\\python312\\lib\\site-packages (0.3.2)\n",
      "Requirement already satisfied: ipython>=5.3.0 in c:\\users\\al\\appdata\\roaming\\python\\python312\\site-packages (from pyvis) (8.21.0)\n",
      "Requirement already satisfied: jinja2>=2.9.6 in c:\\users\\al\\appdata\\local\\programs\\python\\python312\\lib\\site-packages (from pyvis) (3.1.2)\n",
      "Requirement already satisfied: jsonpickle>=1.4.1 in c:\\users\\al\\appdata\\local\\programs\\python\\python312\\lib\\site-packages (from pyvis) (3.0.4)\n",
      "Requirement already satisfied: networkx>=1.11 in c:\\users\\al\\appdata\\local\\programs\\python\\python312\\lib\\site-packages (from pyvis) (3.3)\n",
      "Requirement already satisfied: decorator in c:\\users\\al\\appdata\\roaming\\python\\python312\\site-packages (from ipython>=5.3.0->pyvis) (5.1.1)\n",
      "Requirement already satisfied: jedi>=0.16 in c:\\users\\al\\appdata\\roaming\\python\\python312\\site-packages (from ipython>=5.3.0->pyvis) (0.19.1)\n",
      "Requirement already satisfied: matplotlib-inline in c:\\users\\al\\appdata\\roaming\\python\\python312\\site-packages (from ipython>=5.3.0->pyvis) (0.1.6)\n",
      "Requirement already satisfied: prompt-toolkit<3.1.0,>=3.0.41 in c:\\users\\al\\appdata\\roaming\\python\\python312\\site-packages (from ipython>=5.3.0->pyvis) (3.0.43)\n",
      "Requirement already satisfied: pygments>=2.4.0 in c:\\users\\al\\appdata\\roaming\\python\\python312\\site-packages (from ipython>=5.3.0->pyvis) (2.17.2)\n",
      "Requirement already satisfied: stack-data in c:\\users\\al\\appdata\\roaming\\python\\python312\\site-packages (from ipython>=5.3.0->pyvis) (0.6.3)\n",
      "Requirement already satisfied: traitlets>=5 in c:\\users\\al\\appdata\\roaming\\python\\python312\\site-packages (from ipython>=5.3.0->pyvis) (5.14.1)\n",
      "Requirement already satisfied: colorama in c:\\users\\al\\appdata\\local\\programs\\python\\python312\\lib\\site-packages (from ipython>=5.3.0->pyvis) (0.4.6)\n",
      "Requirement already satisfied: MarkupSafe>=2.0 in c:\\users\\al\\appdata\\local\\programs\\python\\python312\\lib\\site-packages (from jinja2>=2.9.6->pyvis) (2.1.3)\n",
      "Requirement already satisfied: parso<0.9.0,>=0.8.3 in c:\\users\\al\\appdata\\roaming\\python\\python312\\site-packages (from jedi>=0.16->ipython>=5.3.0->pyvis) (0.8.3)\n",
      "Requirement already satisfied: wcwidth in c:\\users\\al\\appdata\\roaming\\python\\python312\\site-packages (from prompt-toolkit<3.1.0,>=3.0.41->ipython>=5.3.0->pyvis) (0.2.13)\n",
      "Requirement already satisfied: executing>=1.2.0 in c:\\users\\al\\appdata\\roaming\\python\\python312\\site-packages (from stack-data->ipython>=5.3.0->pyvis) (2.0.1)\n",
      "Requirement already satisfied: asttokens>=2.1.0 in c:\\users\\al\\appdata\\roaming\\python\\python312\\site-packages (from stack-data->ipython>=5.3.0->pyvis) (2.4.1)\n",
      "Requirement already satisfied: pure-eval in c:\\users\\al\\appdata\\roaming\\python\\python312\\site-packages (from stack-data->ipython>=5.3.0->pyvis) (0.2.2)\n",
      "Requirement already satisfied: six>=1.12.0 in c:\\users\\al\\appdata\\local\\programs\\python\\python312\\lib\\site-packages (from asttokens>=2.1.0->stack-data->ipython>=5.3.0->pyvis) (1.16.0)\n",
      "Note: you may need to restart the kernel to use updated packages.\n"
     ]
    },
    {
     "name": "stderr",
     "output_type": "stream",
     "text": [
      "\n",
      "[notice] A new release of pip is available: 23.2.1 -> 24.0\n",
      "[notice] To update, run: python.exe -m pip install --upgrade pip\n"
     ]
    }
   ],
   "source": [
    "#Install\n",
    "%pip install worker\n",
    "%pip install pandas\n",
    "%pip install numpy\n",
    "%pip install networkx\n",
    "%pip install matplotlib\n",
    "%pip install music21\n",
    "%pip install musescore\n",
    "%pip install tslearn\n",
    "%pip install sklearn\n",
    "%pip install multiprocessing\n",
    "%pip install pyvis"
   ]
  },
  {
   "cell_type": "code",
   "execution_count": 2,
   "metadata": {},
   "outputs": [
    {
     "name": "stderr",
     "output_type": "stream",
     "text": [
      "C:\\Users\\AL\\AppData\\Local\\Temp\\ipykernel_15152\\2102315245.py:16: DeprecationWarning: Importing display from IPython.core.display is deprecated since IPython 7.14, please import from IPython display\n",
      "  from IPython.core.display import display, HTML\n"
     ]
    }
   ],
   "source": [
    "# Import\n",
    "import worker\n",
    "import pandas as pd\n",
    "import numpy as np\n",
    "import networkx as nx\n",
    "import matplotlib.pyplot as plt\n",
    "\n",
    "from music21 import *\n",
    "from music21 import converter, corpus, environment, note, chord\n",
    "from tslearn.metrics import dtw\n",
    "from multiprocessing import Pool, Manager, cpu_count\n",
    "from sklearn.neighbors import kneighbors_graph\n",
    "from sklearn.metrics import pairwise_distances\n",
    "from networkx.algorithms.cuts import conductance\n",
    "from pyvis.network import Network\n",
    "from IPython.core.display import display, HTML"
   ]
  },
  {
   "cell_type": "code",
   "execution_count": 3,
   "metadata": {},
   "outputs": [],
   "source": [
    "# Path\n",
    "env = environment.Environment()\n",
    "env['musicxmlPath'] = 'C:\\\\Program Files\\\\MuseScore 4\\\\bin\\\\MuseScore4.exe' # Change if needed\n",
    "env['musescoreDirectPNGPath'] = 'C:\\\\Program Files\\\\MuseScore 4\\\\bin\\\\MuseScore4.exe' # Change if needed"
   ]
  },
  {
   "cell_type": "markdown",
   "metadata": {},
   "source": [
    "## Process Sample Music"
   ]
  },
  {
   "cell_type": "markdown",
   "metadata": {},
   "source": [
    "#### Functions"
   ]
  },
  {
   "cell_type": "code",
   "execution_count": 4,
   "metadata": {},
   "outputs": [],
   "source": [
    "# midi to score array function (contains all data needed for score visualization)\n",
    "def midi_to_sarr(midi_parsed):\n",
    "    sarr = []\n",
    "    for part in midi_parsed.parts:\n",
    "        for element in part.flatten():\n",
    "            sarr.append(element)\n",
    "    return sarr"
   ]
  },
  {
   "cell_type": "code",
   "execution_count": 5,
   "metadata": {},
   "outputs": [],
   "source": [
    "# sarr to narr and nmat function (removes all elements except notes, rests and chords then turn it into a matrix )\n",
    "def sarr_to_nmat_and_narr(score_array):\n",
    "  trashed_elements = 0\n",
    "  narr = []\n",
    "  nmat = pd.DataFrame(columns=['onset_beats', 'duration_beats', 'midi_pitch', 'ir_symbol'])\n",
    "\n",
    "  for element in score_array:\n",
    "    if isinstance(element, chord.Chord):\n",
    "      row = [element.offset, element.duration.quarterLength, element.root().midi, 'unassigned']\n",
    "      nmat.loc[len(nmat)] = row\n",
    "      narr.append(element)\n",
    "    elif isinstance(element, note.Rest):\n",
    "      row = [element.offset, element.duration.quarterLength, 0, 'rest']\n",
    "      nmat.loc[len(nmat)] = row\n",
    "      narr.append(element)    \n",
    "    else:\n",
    "      try:\n",
    "        row = [element.offset, element.duration.quarterLength, element.pitch.midi, 'unassigned']\n",
    "        nmat.loc[len(nmat)] = row\n",
    "        narr.append(element)\n",
    "      except:\n",
    "        trashed_elements += 1\n",
    "        # print(f\"Trashed element #{trashed_elements}:\\n{note}\") # for debugging\n",
    "  return nmat, narr"
   ]
  },
  {
   "cell_type": "markdown",
   "metadata": {},
   "source": [
    "#### Usage"
   ]
  },
  {
   "cell_type": "code",
   "execution_count": 6,
   "metadata": {},
   "outputs": [],
   "source": [
    "# parse the midi and keep score title\n",
    "midi_file = 'bach_846.mid' # Hardcoded, for multiple songs, make a function to iterate thru folder\n",
    "midi_parsed = converter.parse(midi_file)\n",
    "score_title = midi_file[:-4] # Temporary, apparently the title is not a score element that you can extract so im using the filename"
   ]
  },
  {
   "cell_type": "code",
   "execution_count": 7,
   "metadata": {},
   "outputs": [],
   "source": [
    "# convert parsed midi into a readable array of elements that forms the score\n",
    "sarr = midi_to_sarr(midi_parsed) # this midi was cleaned\n",
    "\n",
    "# output sarr to a readable .txt file\n",
    "with open(\"sarr.txt\", \"w\") as f:\n",
    "    f.write(f\"Number of elements: {len(sarr)}\\n\\n\")\n",
    "    for element in sarr:\n",
    "        f.write(f\"{element}\\n\")"
   ]
  },
  {
   "cell_type": "code",
   "execution_count": 8,
   "metadata": {},
   "outputs": [],
   "source": [
    "# convert score array into a note array and note matrix\n",
    "nmat, narr = sarr_to_nmat_and_narr(sarr)\n",
    "\n",
    "# output nmat to a readable .txt file\n",
    "with open(\"nmat.txt\", \"w\") as f:\n",
    "    f.write(f\"Number of notes: {len(nmat)}\\n\\n\")\n",
    "    for note in nmat:\n",
    "        f.write(f\"{note}\\n\")\n",
    "    f.write(\"\\n\")\n",
    "    np.savetxt('nmat.txt', nmat, delimiter=',', fmt='%s')\n",
    "\n",
    "# output narr to a readable .txt file\n",
    "with open(\"narr.txt\", \"w\") as f:\n",
    "    f.write(f\"Number of notes: {len(narr)}\\n\\n\")\n",
    "    for note in narr:\n",
    "        f.write(f\"{note}\\n\")"
   ]
  },
  {
   "cell_type": "markdown",
   "metadata": {},
   "source": [
    "## Implication-Realization Ruleset, Assignment and Score Visualization"
   ]
  },
  {
   "cell_type": "markdown",
   "metadata": {},
   "source": [
    "#### Functions"
   ]
  },
  {
   "cell_type": "code",
   "execution_count": 9,
   "metadata": {},
   "outputs": [],
   "source": [
    "# IR symbol calculation function\n",
    "def calculate_ir_symbol(interval1, interval2, threshold=5):\n",
    "    direction = interval1 * interval2\n",
    "    abs_difference = abs(interval2-interval1)\n",
    "    # Process\n",
    "    if direction > 0 and (abs(interval2-interval1))<threshold:\n",
    "        return 'P'  \n",
    "    # IR2: D (Duplication)\n",
    "    elif interval1 == interval2 == 0:\n",
    "        return 'D' \n",
    "    # IR3: IP (Intervallic Process)\n",
    "    elif ((interval1 * interval2)<0) and (-threshold <= (abs(interval2) - abs(interval1)) <= threshold) and (abs(interval2) != abs(interval1)):\n",
    "        return 'IP' \n",
    "    # IR4: ID (Intervallic Duplication)\n",
    "    elif ((interval1 * interval2) < 0) and (abs(interval2) == abs(interval1)):\n",
    "        return 'ID'   \n",
    "    # IR5: VP (Vector Process)\n",
    "    elif (interval1 * interval2 > 0) and (abs(interval2-interval1) >= threshold) and (abs(interval1) <= threshold):\n",
    "        return 'VP'\n",
    "    # IR6: R (Reveral)\n",
    "    elif (interval1 * interval2 < 0) and (abs(abs(interval2)-abs(interval1)) >= threshold) and (abs(interval1) >= threshold):\n",
    "        return 'R'\n",
    "    # IR7: IR (Intervallic Reveral)\n",
    "    elif (interval1 * interval2 > 0) and (abs(abs(interval2)-abs(interval1)) >= threshold) and (abs(interval1) >= threshold):\n",
    "        return 'IR' \n",
    "    # IR8: VR (Vector Reveral)\n",
    "    elif (interval1 * interval2 < 0) and (abs(interval2 - interval1) >= threshold) and (abs(interval1) <= threshold):\n",
    "        return 'VR'\n",
    "    elif interval2 == 0 and not (interval1 < -5 or interval1 > 5):\n",
    "        return 'IP'\n",
    "    elif interval2 == 0 and (interval1 < -5 or interval1 > 5):\n",
    "        return 'R'\n",
    "    elif interval1 == 0 and not (interval2 < -5 or interval2 > 5):\n",
    "        return 'P'\n",
    "    elif interval1 == 0 and (interval2 < -5 or interval2 > 5):\n",
    "        return 'VR'"
   ]
  },
  {
   "cell_type": "code",
   "execution_count": 10,
   "metadata": {},
   "outputs": [],
   "source": [
    "# assign IR symbol function (original; modified)\n",
    "def assign_ir_symbols(score_array):\n",
    "\n",
    "    symbols = []\n",
    "    current_group = [] \n",
    "    group_pitches = []\n",
    "    \n",
    "    color_map = {\n",
    "        'P': 'blue',        # IR1: P (Process) \n",
    "        'D': 'green',       # IR2: D (Duplication)\n",
    "        'IP': 'red',        # IR3: IP (Intervallic Process)\n",
    "        'ID': 'orange',     # IR4: ID (Intervallic Duplication)\n",
    "        'VP': 'purple',     # IR5: VP (Vector Process)\n",
    "        'R': 'cyan',        # IR6: R (Reveral)\n",
    "        'IR': 'magenta',    # IR7: IR (Intervallic Reveral)\n",
    "        'VR': 'yellow',     # IR8: VR (Vector Reveral)\n",
    "        'M': 'pink',        # IR9: M (Monad)\n",
    "        'd': 'lime',        # IR10 d (Dyad)\n",
    "    }\n",
    "\n",
    "    def evaluate_current_group():\n",
    "        if len(current_group) == 3:\n",
    "            interval1 = group_pitches[1] - group_pitches[0]\n",
    "            interval2 = group_pitches[2] - group_pitches[1]\n",
    "            symbol = calculate_ir_symbol(interval1, interval2)\n",
    "            # symbols.append(symbol)\n",
    "            color = color_map.get(symbol, 'black')  # Default to black if symbol is not predefined\n",
    "            symbols.extend((note, symbol, color) for note in current_group)\n",
    "        elif len(current_group) == 2:\n",
    "            # symbols.append('d')  # Dyad\n",
    "            symbols.extend((note, 'd', color_map['d']) for note in current_group)\n",
    "        elif len(current_group) == 1:\n",
    "            # symbols.append('M')  # Monad\n",
    "            symbols.extend((note, 'M', color_map['M']) for note in current_group)\n",
    "        # else:\n",
    "            # symbols.append('Error: Invalid note object')\n",
    "        current_group.clear()\n",
    "        group_pitches.clear()\n",
    "\n",
    "    for element in score_array:\n",
    "        if isinstance(element, note.Note):\n",
    "            current_group.append(element)\n",
    "            group_pitches.append(element.pitch.ps)\n",
    "            if len(current_group) == 3:\n",
    "                evaluate_current_group()\n",
    "        elif isinstance(element, chord.Chord):\n",
    "            current_group.append(element)\n",
    "            group_pitches.append(element.root().ps)\n",
    "            if len(current_group) == 3:\n",
    "                evaluate_current_group()\n",
    "        elif isinstance(element, note.Rest):\n",
    "            # continue\n",
    "            # Remove continue for visualization\n",
    "            rest_tuple = (element, 'rest', 'black') \n",
    "            evaluate_current_group()\n",
    "            symbols.append(rest_tuple)\n",
    "        else:\n",
    "            if current_group:\n",
    "                evaluate_current_group()\n",
    "\n",
    "    # Handle any remaining notes\n",
    "    if current_group:\n",
    "        evaluate_current_group()\n",
    "\n",
    "    return symbols"
   ]
  },
  {
   "cell_type": "code",
   "execution_count": 11,
   "metadata": {},
   "outputs": [],
   "source": [
    "# Score visualization function\n",
    "def visualize_notes_with_symbols(notes_with_symbols):\n",
    "    s = stream.Score()\n",
    "    part = stream.Part()\n",
    "    for note, symbol, color in notes_with_symbols:\n",
    "        print(note, symbol, color)\n",
    "        note.style.color = color\n",
    "        note.lyric = symbol\n",
    "        part.append(note)\n",
    "    s.append(part)\n",
    "    s.show()"
   ]
  },
  {
   "cell_type": "code",
   "execution_count": 12,
   "metadata": {},
   "outputs": [],
   "source": [
    "# store ir symbol in nmat function, pass narr data to nmat\n",
    "def pass_ir_symbol_narr_to_nmat(note_array, note_matrix):\n",
    "    pointer = 0\n",
    "    for note in note_array:\n",
    "        note_data, ir_symbol, color = note\n",
    "        nmat.loc[pointer, 'ir_symbol'] = ir_symbol\n",
    "        pointer += 1"
   ]
  },
  {
   "cell_type": "markdown",
   "metadata": {},
   "source": [
    "#### Usage"
   ]
  },
  {
   "cell_type": "code",
   "execution_count": 13,
   "metadata": {},
   "outputs": [
    {
     "name": "stdout",
     "output_type": "stream",
     "text": [
      "An erorr occured, re-importing music21\n"
     ]
    }
   ],
   "source": [
    "# Usage of the above functions\n",
    "try:\n",
    "    narr = assign_ir_symbols(narr)\n",
    "except: # temporary fix for when error occurs\n",
    "    print(\"An erorr occured, re-importing music21\")\n",
    "    from music21 import *\n",
    "    narr = assign_ir_symbols(narr)\n",
    "\n",
    "# output narr with assigned ir symbols to a readable .txt file\n",
    "with open(\"narr_assigned_ir.txt\", \"w\") as f:\n",
    "    f.write(f\"Number of notes: {len(narr)}\\n\\n\")\n",
    "    for note in narr:\n",
    "        f.write(f\"{note}\\n\")\n",
    "\n",
    "# try: # error when polyphonic\n",
    "# visualize_notes_with_symbols(test_ir)\n",
    "# except:\n",
    "#     score = converter.parse('bach_846.mid')\n",
    "#     score.show\n",
    "\n",
    "# store ir symbol in nmat, pass narr data to nmat\n",
    "pass_ir_symbol_narr_to_nmat(narr, nmat)\n",
    "\n",
    "# output nmat to a readable .txt file\n",
    "with open(\"nmat_assigned_ir.txt\", \"w\") as f:\n",
    "    f.write(f\"Number of notes: {len(nmat)}\\n\\n\")\n",
    "    for note in nmat:\n",
    "        f.write(f\"{note}\\n\")\n",
    "    f.write(\"\\n\")\n",
    "    np.savetxt('nmat_assigned_ir.txt', nmat, delimiter=',', fmt='%s')"
   ]
  },
  {
   "cell_type": "markdown",
   "metadata": {},
   "source": [
    "## Gestalt Based Segmentation (Functions)"
   ]
  },
  {
   "cell_type": "code",
   "execution_count": 14,
   "metadata": {},
   "outputs": [],
   "source": [
    "# onset function\n",
    "def get_onset(notematrix: pd.DataFrame, timetype='beat'):\n",
    "  if timetype == 'beat':\n",
    "    return notematrix['onset_beats']\n",
    "  elif timetype == 'sec':\n",
    "    return notematrix['onset_sec']\n",
    "  else:\n",
    "    ValueError(f\"Invalid timetype: {timetype}. Choices are only 'beat' and 'sec'\")"
   ]
  },
  {
   "cell_type": "code",
   "execution_count": 15,
   "metadata": {},
   "outputs": [],
   "source": [
    "# duration function\n",
    "def get_duration(notematrix: pd.DataFrame, timetype='beat') -> pd.Series:\n",
    "  if timetype == 'beat':\n",
    "    return notematrix['duration_beats']\n",
    "  elif timetype == 'sec':\n",
    "    return notematrix['duration_sec']\n",
    "  else:\n",
    "    ValueError(f\"Invalid timetype: {timetype}. Choices are only 'beat' and 'sec'\")"
   ]
  },
  {
   "cell_type": "code",
   "execution_count": 16,
   "metadata": {},
   "outputs": [],
   "source": [
    "# clang boundary calculation funtion\n",
    "def calculate_clang_boundaries(notematrix: pd.DataFrame):\n",
    "  cl = 2*(get_onset(notematrix).diff() + get_duration(notematrix).shift(-1)) + abs(notematrix['midi_pitch'].diff())\n",
    "  clb = (cl.shift(-1) > cl) & (cl.shift(1) > cl)\n",
    "  clind = clb.index[clb].tolist()\n",
    "  return clind"
   ]
  },
  {
   "cell_type": "code",
   "execution_count": 17,
   "metadata": {},
   "outputs": [],
   "source": [
    "# segment boundary calculation function\n",
    "def calculate_segment_boundaries(notematrix, clind):\n",
    "    first = [0] + clind\n",
    "    last = clind + [len(notematrix) - 1]\n",
    "    mean_pitch = [notematrix.iloc[first[i]:last[i]+1]['midi_pitch'].mean() for i in range(len(first))]\n",
    "    segdist = []\n",
    "    for i in range(1, len(first)):\n",
    "        segdist.append(abs(mean_pitch[i] - mean_pitch[i - 1]) +\n",
    "                       notematrix.iloc[first[i]]['onset_beats'] - notematrix.iloc[last[i - 1]]['onset_beats'] +\n",
    "                       notematrix.iloc[first[i]]['duration_beats'] + notematrix.iloc[first[i - 1]]['duration_beats'] +\n",
    "                       2 * (notematrix.iloc[first[i]]['onset_beats'] - notematrix.iloc[last[i - 1]]['onset_beats']))\n",
    "\n",
    "    segb = [(segdist[i] > segdist[i-1] and segdist[i] > segdist[i+1]) for i in range(1, len(segdist)-1)]\n",
    "    segind = [clind[i] for i in range(1, len(segdist)-1) if segb[i-1]]\n",
    "    return segind"
   ]
  },
  {
   "cell_type": "code",
   "execution_count": 18,
   "metadata": {},
   "outputs": [],
   "source": [
    "# gestalt segmentation function\n",
    "def segmentgestalt(notematrix):\n",
    "    if notematrix.empty:\n",
    "        return None\n",
    "\n",
    "    # IR Assignment function here? <------------------------------------------------------ yayayaya look here\n",
    "    clind = calculate_clang_boundaries(notematrix)\n",
    "    segind = calculate_segment_boundaries(notematrix, clind)\n",
    "\n",
    "    segments = []\n",
    "    start_idx = 0\n",
    "    for end_idx in segind:\n",
    "        segments.append(notematrix.iloc[start_idx:end_idx+1])\n",
    "        start_idx = end_idx + 1\n",
    "\n",
    "    segments.append(notematrix.iloc[start_idx:])\n",
    "    return segments"
   ]
  },
  {
   "cell_type": "markdown",
   "metadata": {},
   "source": [
    "## Get Clang Boundaries and Segments"
   ]
  },
  {
   "cell_type": "code",
   "execution_count": 19,
   "metadata": {},
   "outputs": [
    {
     "name": "stdout",
     "output_type": "stream",
     "text": [
      "Clang Boundaries: [3, 6, 10, 13, 17, 20, 24, 27, 31, 34, 38, 41, 45, 48, 52, 55, 59, 62, 66, 69, 72, 75, 79, 82, 87, 90, 94, 97, 100, 103, 107, 110, 114, 117, 121, 124, 128, 131, 135, 138, 143, 146, 150, 153, 156, 159, 163, 166, 169, 172, 175, 179, 182, 185, 188, 192, 195, 200, 203, 207, 210, 213, 216, 220, 223, 227, 230, 234, 237, 241, 244, 248, 251, 256, 259, 263, 266, 269, 272, 276, 279, 283, 286, 290, 293, 300, 307, 311, 314, 318, 321, 326, 329, 333, 336, 340, 343, 347, 350, 359, 364, 368, 371, 375, 378, 382, 385, 389, 392, 396, 399, 403, 406, 413, 423, 425, 428, 431, 433, 436, 440, 443, 447, 450, 455, 480, 484, 487, 489, 491, 493, 495, 497, 499, 502, 504, 509, 511, 513, 515, 517, 519, 522, 525, 527, 529, 533, 538, 540, 542, 547, 549, 551, 554, 556, 558, 563, 565, 568, 570, 573, 579, 582, 584, 586, 591, 593, 595, 597, 599, 602, 605, 607, 610, 614, 616, 618, 622, 625, 627, 629, 631, 633, 635, 637, 639, 641, 643, 645, 647, 649, 651, 653, 655, 657, 659, 663, 665, 667, 669, 671, 673, 675, 677, 679, 681, 683, 685, 687, 689, 691, 695, 697, 701, 703, 705, 707, 709, 713, 715, 717, 719, 721, 723, 725, 727, 729, 731, 733, 735, 737, 739, 741, 743, 745, 747, 751, 754]\n"
     ]
    }
   ],
   "source": [
    "# show clang boundaries\n",
    "clang_boundaries = calculate_clang_boundaries(nmat)\n",
    "print(\"Clang Boundaries:\", clang_boundaries)"
   ]
  },
  {
   "cell_type": "code",
   "execution_count": 20,
   "metadata": {},
   "outputs": [],
   "source": [
    "# Get segments\n",
    "segments = segmentgestalt(nmat)\n",
    "\n",
    "# Store viz related properties (score title, color), labelling the segment\n",
    "labeled_segments = []\n",
    "assigned_color = 'red' # HARDCODED temporary since multiple scores not impremented yet\n",
    "# color_list = ['blue', 'green', 'red', 'orange', 'purple', 'cyan', 'magenta', 'yellow', 'pink', 'lime']\n",
    "label = (score_title, assigned_color)\n",
    "for segment in segments:\n",
    "    labeled_segments.append((label, segment))\n",
    "\n",
    "\n",
    "# output to a readable .txt file\n",
    "with open(\"labeled_segments.txt\", \"w\") as f:\n",
    "    f.write(f\"Number of segments: {len(labeled_segments)}\\n\\n\")\n",
    "    for idx, tuple in enumerate(labeled_segments):\n",
    "        label, segment = tuple\n",
    "        title, color = label\n",
    "        f.write(f\"{title} Segment {idx+1} ({color}):\\n\")\n",
    "        f.write(f\"{segment}\\n\")\n",
    "        f.write(\"--------------------------------------------\\n\\n\")"
   ]
  },
  {
   "cell_type": "markdown",
   "metadata": {},
   "source": [
    "## DTW Distance Using TSLearn"
   ]
  },
  {
   "cell_type": "code",
   "execution_count": 21,
   "metadata": {},
   "outputs": [],
   "source": [
    "def segments_to_distance_matrix(segments: list[pd.DataFrame], cores=None):\n",
    "    if __name__ == '__main__':\n",
    "        \n",
    "        if cores is not None and cores > cpu_count():\n",
    "            raise ValueError(f\"You don't have enough cores! Please specify a value within your system's number of cores. \\n Core Count: {cpu_count()}\")\n",
    "        \n",
    "        seg_np = [segment.to_numpy() for segment in segments]\n",
    "    \n",
    "        num_segments = len(seg_np)\n",
    "        distance_matrix = np.zeros((num_segments, num_segments))\n",
    "    \n",
    "        # Create argument list for multiprocessing\n",
    "        args_list = []\n",
    "        for i in range(num_segments):\n",
    "            for j in range(i + 1, num_segments):\n",
    "                args_list.append((i, j, segments[i], segments[j]))\n",
    "    \n",
    "        with Manager() as manager:\n",
    "            message_list = manager.list()\n",
    "    \n",
    "            def log_message(message):\n",
    "                message_list.append(message)\n",
    "    \n",
    "            # Use multiprocessing Pool to parallelize the calculations\n",
    "            with Pool() as pool:\n",
    "                results = pool.map(worker.calculate_distance, args_list)\n",
    "    \n",
    "            # Update distance matrix with the results\n",
    "            for i, j, distance, message in results:\n",
    "                distance_matrix[i, j] = distance\n",
    "                distance_matrix[j, i] = distance  # Reflect along the diagonal\n",
    "                log_message(message)\n",
    "    \n",
    "            # Print messages from the shared list\n",
    "            for message in message_list:\n",
    "                print(message)\n",
    "    \n",
    "        return distance_matrix"
   ]
  },
  {
   "cell_type": "code",
   "execution_count": null,
   "metadata": {},
   "outputs": [],
   "source": [
    "# segments to distance matrix\n",
    "dist_mat = segments_to_distance_matrix(segments)\n",
    "print(f\"there are {len(dist_mat)} elements in dist mat\")"
   ]
  },
  {
   "cell_type": "markdown",
   "metadata": {},
   "source": [
    "## Building the KNN Graph\n"
   ]
  },
  {
   "cell_type": "code",
   "execution_count": null,
   "metadata": {},
   "outputs": [],
   "source": [
    "# building KNN Graph\n",
    "k = 3\n",
    "distance_matrix = dist_mat\n",
    "knn_graph = kneighbors_graph(distance_matrix, n_neighbors=k, mode='connectivity')\n",
    "\n",
    "G = nx.from_scipy_sparse_array(knn_graph)\n",
    "\n",
    "# Detect if the graph is disjoint\n",
    "if not nx.is_connected(G):\n",
    "    print(\"The KNN graph is disjoint. Ensuring connectivity...\")\n",
    "\n",
    "    # Calculate the connected components\n",
    "    components = list(nx.connected_components(G))\n",
    "\n",
    "    # Connect the components\n",
    "    for i in range(len(components) - 1):\n",
    "        min_dist = np.inf\n",
    "        closest_pair = None\n",
    "        for node1 in components[i]:\n",
    "            for node2 in components[i + 1]:\n",
    "                dist = distance_matrix[node1, node2]\n",
    "                if dist < min_dist:\n",
    "                    min_dist = dist\n",
    "                    closest_pair = (node1, node2)\n",
    "\n",
    "        # Add an edge between the closest pair of nodes from different components\n",
    "        G.add_edge(closest_pair[0], closest_pair[1])\n",
    "\n",
    "# Plot the final connected graph\n",
    "pos = nx.spring_layout(G, seed=42, iterations=50)\n",
    "pos_dict = {i: pos[i] for i in range(len(pos))}\n",
    "nx.draw(G, node_size=50, pos=pos_dict)\n",
    "plt.title('Bach Prelude in C')\n",
    "plt.show()"
   ]
  },
  {
   "cell_type": "code",
   "execution_count": null,
   "metadata": {},
   "outputs": [],
   "source": [
    "# distance matrix to knn graph function\n",
    "def distance_matrix_to_knn_graph(k: int, distance_matrix: np.array, graph_title: str,\n",
    "                                 seed: int, iterations: int):\n",
    "  knn_graph = kneighbors_graph(distance_matrix, n_neighbors=k, mode='connectivity')\n",
    "\n",
    "  G = nx.from_scipy_sparse_array(knn_graph)\n",
    "\n",
    "  # Detect if the graph is disjoint\n",
    "  if not nx.is_connected(G):\n",
    "      print(\"The KNN graph is disjoint. Ensuring connectivity...\")\n",
    "\n",
    "      # Calculate the connected components\n",
    "      components = list(nx.connected_components(G))\n",
    "\n",
    "      # Connect the components\n",
    "      for i in range(len(components) - 1):\n",
    "          min_dist = np.inf\n",
    "          closest_pair = None\n",
    "          for node1 in components[i]:\n",
    "              for node2 in components[i + 1]:\n",
    "                  dist = distance_matrix[node1, node2]\n",
    "                  if dist < min_dist:\n",
    "                      min_dist = dist\n",
    "                      closest_pair = (node1, node2)\n",
    "\n",
    "          # Add an edge between the closest pair of nodes from different components\n",
    "          G.add_edge(closest_pair[0], closest_pair[1])\n",
    "\n",
    "  # Plot the final connected graph\n",
    "  pos = nx.spring_layout(G, seed=seed, iterations=iterations)\n",
    "  nx.draw(G, node_size=50, pos=pos)\n",
    "  plt.title(graph_title + f\" (K={k})\")\n",
    "  plt.show()"
   ]
  },
  {
   "cell_type": "code",
   "execution_count": null,
   "metadata": {},
   "outputs": [],
   "source": [
    "# show graph\n",
    "distance_matrix_to_knn_graph(3, dist_mat, \"Bach Prelude in C\", 42, 50)"
   ]
  },
  {
   "cell_type": "markdown",
   "metadata": {},
   "source": [
    "### Currently Trying to Put The Segment Data Into The Node so we can analyze grouped segments"
   ]
  },
  {
   "cell_type": "code",
   "execution_count": null,
   "metadata": {},
   "outputs": [],
   "source": [
    "# segments to graph function\n",
    "def segments_to_graph(k: int, segments: list[pd.DataFrame], labeled_segments, cores=None):\n",
    "  # Convert segments to a distance matrix\n",
    "  distance_matrix = segments_to_distance_matrix(segments, cores=cores)\n",
    "\n",
    "  # Compute the k-NN graph\n",
    "  knn_graph = kneighbors_graph(distance_matrix, n_neighbors=k, mode='connectivity')\n",
    "\n",
    "  # Convert the k-NN graph to a NetworkX graph\n",
    "  G = nx.from_scipy_sparse_array(knn_graph)\n",
    "\n",
    "  # Add segment data as attributes to each node\n",
    "  for i in range(len(segments)):\n",
    "    G.nodes[i]['segment'] = labeled_segments[i] # print shit\n",
    "\n",
    "  # Detect if the graph is disjoint\n",
    "  if not nx.is_connected(G):\n",
    "      print(\"The KNN graph is disjoint. Ensuring connectivity...\")\n",
    "\n",
    "      # Calculate the connected components\n",
    "      components = list(nx.connected_components(G))\n",
    "\n",
    "      # Connect the components\n",
    "      for i in range(len(components) - 1):\n",
    "          min_dist = np.inf\n",
    "          closest_pair = None\n",
    "          for node1 in components[i]:\n",
    "              for node2 in components[i + 1]:\n",
    "                  dist = distance_matrix[node1, node2]\n",
    "                  if dist < min_dist:\n",
    "                      min_dist = dist\n",
    "                      closest_pair = (node1, node2)\n",
    "\n",
    "          # Add an edge between the closest pair of nodes from different components\n",
    "          G.add_edge(closest_pair[0], closest_pair[1])\n",
    "\n",
    "  return G, distance_matrix"
   ]
  },
  {
   "cell_type": "code",
   "execution_count": null,
   "metadata": {},
   "outputs": [],
   "source": [
    "# segments to graph\n",
    "graph, distance_matrix = segments_to_graph(5, segments, labeled_segments)"
   ]
  },
  {
   "cell_type": "markdown",
   "metadata": {},
   "source": [
    "## Trying to find ways to validate \"Graph Identity\"\n",
    "\n",
    "besides average dtw distance Im trying to see if I can make something of a graph \"silhouette score\".\n",
    "\n",
    "Basically get the communities in the graph then calculate the following:\n",
    "\n",
    "* homogeneity: intra-cluster distance\n",
    "\n",
    "* heterogeneity: inter-cluster distance\n",
    "\n",
    "* \"Graph Silhoette Score:\" $\\frac{Heterogeneity - Homogeneity} {max(Hetero, Homo)}$\n",
    "\n",
    "Also might take a look at clustering coefficients"
   ]
  },
  {
   "cell_type": "code",
   "execution_count": null,
   "metadata": {},
   "outputs": [],
   "source": [
    "# graph metrics function\n",
    "def graph_metrics(graph: nx.classes.graph.Graph, distance_matrix: np.array,\n",
    "                  seed: int):\n",
    "  avg_dtw_distance = distance_matrix.mean()\n",
    "  avg_clustering_coef = nx.average_clustering(graph)\n",
    "\n",
    "  communities = nx.community.louvain_communities(graph, seed)\n",
    "\n",
    "  silhouette_scores = []\n",
    "  for cluster in communities:\n",
    "    for i in cluster:\n",
    "      cluster_distances = distance_matrix[i, list(cluster - {i})]\n",
    "      homogeneity = np.mean(cluster_distances)\n",
    "      other_cluster_distances = [np.mean(distance_matrix[i, list(other_cluster)]) for other_cluster in communities if other_cluster != cluster]\n",
    "      heterogeneity = min(other_cluster_distances) if other_cluster_distances else homogeneity\n",
    "      silhouette_score = (heterogeneity - homogeneity) / max(heterogeneity, homogeneity)\n",
    "      silhouette_scores.append(silhouette_score)\n",
    "\n",
    "  # Average silhouette score for all nodes\n",
    "  average_silhouette_score = np.mean(silhouette_scores)\n",
    "\n",
    "  conductance_scores = []\n",
    "  for cluster in communities:\n",
    "    cluster_conductance = conductance(graph, cluster)\n",
    "    conductance_scores.append(cluster_conductance)\n",
    "\n",
    "  average_conductance = np.mean(conductance_scores)\n",
    "\n",
    "  print(\"Average DTW Distance:\", avg_dtw_distance)\n",
    "  print(\"Average Clustering Coefficient:\", avg_clustering_coef)\n",
    "  print(\"Average Silhouette Score\", average_silhouette_score)\n",
    "  print(\"Average Conductance:\", average_conductance)"
   ]
  },
  {
   "cell_type": "code",
   "execution_count": null,
   "metadata": {},
   "outputs": [],
   "source": [
    "# show graph metrics and segment data\n",
    "graph_metrics(graph, distance_matrix, 42)\n",
    "print(f\"Graph Length: {len(graph)}\")\n",
    "\n",
    "for node in graph.nodes(data=True):\n",
    "  node_id = node[0]\n",
    "  segment_data = node[1]['segment']\n",
    "  print(f\"Node {node_id} segment data:\")\n",
    "  print(segment_data)"
   ]
  },
  {
   "cell_type": "code",
   "execution_count": null,
   "metadata": {},
   "outputs": [],
   "source": [
    "# plot graph function\n",
    "def plot_graph(graph: nx.classes.graph.Graph,\n",
    "               seed: int,\n",
    "               iterations: int,\n",
    "               title: str,\n",
    "               node_size: int):\n",
    "  pos = nx.spring_layout(graph, seed=seed, iterations=iterations)\n",
    "  for node in graph.nodes(data=True):\n",
    "    segment_data = node[1]['segment']\n",
    "    label, matrix = segment_data\n",
    "    title, color = label\n",
    "    print(color)\n",
    "    # G.nodes[node]['color'] = color\n",
    "  nx.draw(G, node_size=node_size, node_color='red' ,pos=pos)\n",
    "  plt.title(title)\n",
    "  plt.show()"
   ]
  },
  {
   "cell_type": "code",
   "execution_count": null,
   "metadata": {},
   "outputs": [],
   "source": [
    "# show graph\n",
    "plot_graph(graph, 3, 50, \"Bach Prelud in C (K=5)\", 50)"
   ]
  },
  {
   "cell_type": "code",
   "execution_count": null,
   "metadata": {},
   "outputs": [],
   "source": [
    "for i in range(len(graph.nodes())):\n",
    "  graph.nodes[i]['segment'] = graph.nodes[i]['segment'].to_json(default_handler=str)\n",
    "\n",
    "nt = Network('1000px', '1000px', notebook=True, cdn_resources = 'remote')\n",
    "nt.from_nx(graph)\n",
    "nt.show('sample_graph.html')   ### Still need to figure out the labels\n",
    "display(HTML('sample_graph.html'))"
   ]
  }
 ],
 "metadata": {
  "kernelspec": {
   "display_name": "Python 3",
   "language": "python",
   "name": "python3"
  },
  "language_info": {
   "codemirror_mode": {
    "name": "ipython",
    "version": 3
   },
   "file_extension": ".py",
   "mimetype": "text/x-python",
   "name": "python",
   "nbconvert_exporter": "python",
   "pygments_lexer": "ipython3",
   "version": "3.12.0"
  }
 },
 "nbformat": 4,
 "nbformat_minor": 2
}
