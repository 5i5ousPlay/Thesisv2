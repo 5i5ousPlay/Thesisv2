{
 "cells": [
  {
   "cell_type": "code",
   "execution_count": 24,
   "id": "87d073ed67222df7",
   "metadata": {
    "ExecuteTime": {
     "end_time": "2024-05-16T02:33:43.938528100Z",
     "start_time": "2024-05-16T02:33:24.731784600Z"
    }
   },
   "outputs": [],
   "source": [
    "from functions import *\n",
    "from music21 import converter, environment\n",
    "\n",
    "import pickle"
   ]
  },
  {
   "cell_type": "code",
   "execution_count": 2,
   "id": "7a336ca1f1d22373",
   "metadata": {
    "ExecuteTime": {
     "end_time": "2024-05-16T02:33:43.941050400Z",
     "start_time": "2024-05-16T02:33:43.937906Z"
    }
   },
   "outputs": [],
   "source": [
    "env = environment.Environment()\n",
    "env['musicxmlPath'] = 'C:\\\\Program Files\\\\MuseScore 4\\\\bin\\\\MuseScore4.exe'  # Path to MuseScore executable\n",
    "env['musescoreDirectPNGPath'] = 'C:\\\\Program Files\\\\MuseScore 4\\\\bin\\\\MuseScore4.exe'  # Path to MuseScore executable"
   ]
  },
  {
   "cell_type": "code",
   "execution_count": null,
   "id": "initial_id",
   "metadata": {
    "ExecuteTime": {
     "end_time": "2024-05-16T02:33:44.009887900Z",
     "start_time": "2024-05-16T02:33:43.942051900Z"
    },
    "collapsed": true
   },
   "outputs": [],
   "source": [
    "\n",
    "midi_file = '..\\\\(Extrapolated) Quartet for 2 Violins, Viola and Violoncello D major 3 Nocturne.xml'\n",
    "midi_parsed = converter.parse(midi_file)\n",
    "# midi_parsed.show()"
   ]
  },
  {
   "cell_type": "code",
   "execution_count": null,
   "id": "d7f6ce442469f55b",
   "metadata": {
    "ExecuteTime": {
     "end_time": "2024-05-16T02:33:45.689810900Z",
     "start_time": "2024-05-16T02:33:45.417101300Z"
    }
   },
   "outputs": [],
   "source": [
    "nmat, narr, sarr = parse_score_elements(midi_parsed)\n",
    "ir_symbols = assign_ir_symbols(narr)\n",
    "ir_nmat = ir_symbols_to_matrix(ir_symbols, nmat)\n",
    "ir_nmat = assign_ir_pattern_indices(ir_nmat)\n",
    "segments = segmentgestalt(ir_nmat)\n",
    "processed_segments = preprocess_segments(segments)\n",
    "visualize_notes_with_symbols(ir_symbols)\n",
    "# midi_parsed.show()"
   ]
  },
  {
   "cell_type": "code",
   "execution_count": 8,
   "id": "1b6a93cc",
   "metadata": {},
   "outputs": [],
   "source": [
    "def segments_to_distance_matrix(segments: list[pd.DataFrame], cores=None, checkpoint=1000):\n",
    "    \"\"\"\n",
    "    Converts segments to a distance matrix using multiprocessing.\n",
    "\n",
    "    Parameters:\n",
    "    segments (list[pd.DataFrame]): A list of segmented DataFrames.\n",
    "    cores (int): The number of CPU cores to use for multiprocessing (default is None).\n",
    "    checkpoint (int): The number of individual segment to segment distance calculations\n",
    "                        to perform before saving to a pickle\n",
    "\n",
    "    Returns:\n",
    "    np.ndarray: A distance matrix representing distances between segments.\n",
    "    \"\"\"\n",
    "    if cores is not None and cores > cpu_count():\n",
    "        raise ValueError(f\"You don't have enough cores! Please specify a value within your system's number of \"\n",
    "                         f\"cores. Core Count: {cpu_count()}\")\n",
    "\n",
    "\n",
    "    # check if pickle exists\n",
    "    if os.path.exists(\"segment_pair_args.pkl\") and os.path.exists(\"unfinished_matrix.pkl\"):\n",
    "\n",
    "        print(\"unfinished matrix and segment pair pickles exists, skipping initialization, loading existing matrix\")\n",
    "        \n",
    "        # loading unfinished matrix pickle\n",
    "        with open(\"unfinished_matrix.pkl\", \"rb\") as f:\n",
    "            distance_matrix = pickle.load(f)\n",
    "\n",
    "        # loading tracking variables\n",
    "        with open(\"segment_pair_args.pkl\", \"rb\") as f:\n",
    "            segment_pair_args = pickle.load(f)\n",
    "        \n",
    "        segment_pairs_left = len(segment_pair_args)\n",
    "\n",
    "    else:\n",
    "        seg_np = [segment.to_numpy() for segment in segments]\n",
    "        num_segments = len(seg_np)\n",
    "        distance_matrix = np.zeros((num_segments, num_segments))\n",
    "\n",
    "        segment_pair_args = []\n",
    "        for i in range(num_segments):\n",
    "            for j in range(i + 1, num_segments):\n",
    "                segment_pair_args.append((i, j, segments[i], segments[j]))\n",
    "\n",
    "        segment_pairs_left = len(segment_pair_args)\n",
    "\n",
    "        # pickle the args list for checkpointing\n",
    "        with open(\"segment_pair_args.pkl\", \"wb\") as f:\n",
    "            pickle.dump(segment_pair_args, f)\n",
    "\n",
    "\n",
    "    while segment_pairs_left > 0:\n",
    "\n",
    "        # load first n amount of remaining pairs to compute\n",
    "        with open(\"segment_pair_args.pkl\", \"rb\") as f:\n",
    "            segment_pair_args = pickle.load(f)\n",
    "        \n",
    "        with Manager() as manager:\n",
    "            message_list = manager.list()\n",
    "\n",
    "            def log_message(message):\n",
    "                message_list.append(message)\n",
    "\n",
    "            with Pool(cores) as pool:\n",
    "                results = pool.map(worker.calculate_distance, segment_pair_args[:1000]) ### hardcoded checkpoint: 1000; i havent fixed this one simple slice index error\n",
    "\n",
    "            for i, j, distance, message in results:\n",
    "                distance_matrix[i, j] = distance\n",
    "                distance_matrix[j, i] = distance  # Reflect along the diagonal\n",
    "                log_message(message)\n",
    "\n",
    "            for message in message_list:\n",
    "                print(message)\n",
    "\n",
    "        segment_pairs_left -= checkpoint\n",
    "        print(f\"{segment_pairs_left} unprocessed segment pairs left...\")\n",
    "\n",
    "        # pickle the unfinished matrix\n",
    "        with open(\"unfinished_matrix.pkl\", \"wb\") as f:\n",
    "            pickle.dump(distance_matrix, f)\n",
    "\n",
    "        # pickle remaning segment pairs to calculate for the next iteration\n",
    "        with open(\"segment_pair_args.pkl\", \"wb\") as f:\n",
    "            pickle.dump(segment_pair_args[1000:], f) ### hardcoded checkpoint: 1000; i havent fixed this one simple slice index error\n",
    "    \n",
    "    return distance_matrix\n",
    "\n",
    "# add an interrupt detection to avoid redundancy and possible errors"
   ]
  },
  {
   "cell_type": "code",
   "execution_count": 25,
   "id": "4fe8cb14814a9981",
   "metadata": {
    "ExecuteTime": {
     "end_time": "2024-05-16T02:33:53.342481300Z",
     "start_time": "2024-05-16T02:33:47.775194700Z"
    }
   },
   "outputs": [],
   "source": [
    "distance_matrix = segments_to_distance_matrix(processed_segments)"
   ]
  },
  {
   "cell_type": "code",
   "execution_count": 53,
   "id": "b62e6502",
   "metadata": {},
   "outputs": [],
   "source": [
    "# forceload distance matrix\n",
    "with open(\"unfinished_matrix.pkl\", \"rb\") as f:\n",
    "    distance_matrix = pickle.load(f)\n",
    "\n",
    "# print(type(distance_matrix))\n",
    "# print(distance_matrix[10])"
   ]
  },
  {
   "cell_type": "code",
   "execution_count": 54,
   "id": "1d208162d14402e8",
   "metadata": {
    "ExecuteTime": {
     "end_time": "2024-05-16T02:33:53.360667100Z",
     "start_time": "2024-05-16T02:33:53.338429700Z"
    }
   },
   "outputs": [],
   "source": [
    "# distance matrix to knn graph function\n",
    "def distance_matrix_to_knn_graph(k: int, distance_matrix: np.array, graph_title: str,\n",
    "                                 seed: int, iterations: int):\n",
    "  knn_graph = kneighbors_graph(distance_matrix, n_neighbors=k, mode='connectivity')\n",
    "\n",
    "  G = nx.from_scipy_sparse_array(knn_graph)\n",
    "\n",
    "  # Detect if the graph is disjoint\n",
    "  if not nx.is_connected(G):\n",
    "      print(\"The KNN graph is disjoint. Ensuring connectivity...\")\n",
    "\n",
    "      # Calculate the connected components\n",
    "      components = list(nx.connected_components(G))\n",
    "\n",
    "      # Connect the components\n",
    "      for i in range(len(components) - 1):\n",
    "          min_dist = np.inf\n",
    "          closest_pair = None\n",
    "          for node1 in components[i]:\n",
    "              for node2 in components[i + 1]:\n",
    "                  dist = distance_matrix[node1, node2]\n",
    "                  if dist < min_dist:\n",
    "                      min_dist = dist\n",
    "                      closest_pair = (node1, node2)\n",
    "\n",
    "          # Add an edge between the closest pair of nodes from different components\n",
    "          G.add_edge(closest_pair[0], closest_pair[1])\n",
    "\n",
    "  # Plot the final connected graph\n",
    "  pos = nx.spring_layout(G, seed=seed, iterations=iterations)\n",
    "  nx.draw(G, node_size=50, pos=pos)\n",
    "  plt.title(graph_title + f\" (K={k})\")\n",
    "  plt.show()"
   ]
  },
  {
   "cell_type": "code",
   "execution_count": 55,
   "id": "f95bd70c7b7937d0",
   "metadata": {
    "ExecuteTime": {
     "end_time": "2024-05-16T02:35:41.427562500Z",
     "start_time": "2024-05-16T02:35:41.401585900Z"
    }
   },
   "outputs": [],
   "source": [
    "# distance matrix to knn graph function\n",
    "def distance_matrices_to_knn_graph(k: int, distance_matrix: np.array, graph_title: str,\n",
    "                                 seed: int, iterations: int):\n",
    "  knn_graph = kneighbors_graph(distance_matrix, n_neighbors=k, mode='connectivity')\n",
    "\n",
    "  G = nx.from_scipy_sparse_array(knn_graph)\n",
    "\n",
    "  # Detect if the graph is disjoint\n",
    "  if not nx.is_connected(G):\n",
    "      print(\"The KNN graph is disjoint. Ensuring connectivity...\")\n",
    "\n",
    "      # Calculate the connected components\n",
    "      components = list(nx.connected_components(G))\n",
    "\n",
    "      # Connect the components\n",
    "      for i in range(len(components) - 1):\n",
    "          min_dist = np.inf\n",
    "          closest_pair = None\n",
    "          for node1 in components[i]:\n",
    "              for node2 in components[i + 1]:\n",
    "                  dist = distance_matrix[node1, node2]\n",
    "                  if dist < min_dist:\n",
    "                      min_dist = dist\n",
    "                      closest_pair = (node1, node2)\n",
    "\n",
    "          # Add an edge between the closest pair of nodes from different components\n",
    "          G.add_edge(closest_pair[0], closest_pair[1])\n",
    "\n",
    "  # Plot the final connected graph\n",
    "  pos = nx.spring_layout(G, seed=seed, iterations=iterations)\n",
    "  nx.draw(G, node_size=50, pos=pos)\n",
    "  plt.title(graph_title + f\" (K={k})\")\n",
    "  plt.show()"
   ]
  },
  {
   "cell_type": "code",
   "execution_count": null,
   "id": "4299d782dbadda1a",
   "metadata": {
    "ExecuteTime": {
     "end_time": "2024-05-16T02:35:42.705127700Z",
     "start_time": "2024-05-16T02:35:42.615533100Z"
    }
   },
   "outputs": [],
   "source": [
    "# show graph\n",
    "distance_matrix_to_knn_graph(3, distance_matrix, \"Bach Prelude in C\", 9, 70)"
   ]
  }
 ],
 "metadata": {
  "kernelspec": {
   "display_name": "Python 3",
   "language": "python",
   "name": "python3"
  },
  "language_info": {
   "codemirror_mode": {
    "name": "ipython",
    "version": 3
   },
   "file_extension": ".py",
   "mimetype": "text/x-python",
   "name": "python",
   "nbconvert_exporter": "python",
   "pygments_lexer": "ipython3",
   "version": "3.12.0"
  }
 },
 "nbformat": 4,
 "nbformat_minor": 5
}
